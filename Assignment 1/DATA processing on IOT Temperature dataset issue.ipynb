{
 "cells": [
  {
   "cell_type": "markdown",
   "id": "08a1fdd3",
   "metadata": {},
   "source": [
    "## <center> IOT Temperature Data - Data Preprocessing and Visualization </center>"
   ]
  },
  {
   "cell_type": "code",
   "execution_count": 91,
   "id": "7fc65735",
   "metadata": {},
   "outputs": [],
   "source": [
    "#Import libraries\n",
    "import numpy as np                    # linear algebra /as computational purposes\n",
    "import pandas as pd                   # Data processing/manipulation, CSV file I/O \n",
    "import matplotlib.pyplot as plt       # Broding purposes\n",
    "import seaborn as sns                 # \n",
    "from sklearn.model_selection import train_test_split\n",
    "import warnings\n",
    "warnings.filterwarnings('ignore')"
   ]
  },
  {
   "cell_type": "markdown",
   "id": "a06790b4",
   "metadata": {},
   "source": [
    "### Load data"
   ]
  },
  {
   "cell_type": "code",
   "execution_count": 92,
   "id": "5bbee0dd",
   "metadata": {},
   "outputs": [
    {
     "data": {
      "text/html": [
       "<div>\n",
       "<style scoped>\n",
       "    .dataframe tbody tr th:only-of-type {\n",
       "        vertical-align: middle;\n",
       "    }\n",
       "\n",
       "    .dataframe tbody tr th {\n",
       "        vertical-align: top;\n",
       "    }\n",
       "\n",
       "    .dataframe thead th {\n",
       "        text-align: right;\n",
       "    }\n",
       "</style>\n",
       "<table border=\"1\" class=\"dataframe\">\n",
       "  <thead>\n",
       "    <tr style=\"text-align: right;\">\n",
       "      <th></th>\n",
       "      <th>id</th>\n",
       "      <th>room_id/id</th>\n",
       "      <th>noted_date</th>\n",
       "      <th>temp</th>\n",
       "      <th>out/in</th>\n",
       "    </tr>\n",
       "  </thead>\n",
       "  <tbody>\n",
       "    <tr>\n",
       "      <th>0</th>\n",
       "      <td>__export__.temp_log_196134_bd201015</td>\n",
       "      <td>Room Admin</td>\n",
       "      <td>08-12-2018 09:30</td>\n",
       "      <td>29</td>\n",
       "      <td>In</td>\n",
       "    </tr>\n",
       "    <tr>\n",
       "      <th>1</th>\n",
       "      <td>__export__.temp_log_196131_7bca51bc</td>\n",
       "      <td>Room Admin</td>\n",
       "      <td>08-12-2018 09:30</td>\n",
       "      <td>29</td>\n",
       "      <td>In</td>\n",
       "    </tr>\n",
       "    <tr>\n",
       "      <th>2</th>\n",
       "      <td>__export__.temp_log_196127_522915e3</td>\n",
       "      <td>Room Admin</td>\n",
       "      <td>08-12-2018 09:29</td>\n",
       "      <td>41</td>\n",
       "      <td>Out</td>\n",
       "    </tr>\n",
       "    <tr>\n",
       "      <th>3</th>\n",
       "      <td>__export__.temp_log_196128_be0919cf</td>\n",
       "      <td>Room Admin</td>\n",
       "      <td>08-12-2018 09:29</td>\n",
       "      <td>41</td>\n",
       "      <td>Out</td>\n",
       "    </tr>\n",
       "    <tr>\n",
       "      <th>4</th>\n",
       "      <td>__export__.temp_log_196126_d30b72fb</td>\n",
       "      <td>Room Admin</td>\n",
       "      <td>08-12-2018 09:29</td>\n",
       "      <td>31</td>\n",
       "      <td>In</td>\n",
       "    </tr>\n",
       "    <tr>\n",
       "      <th>...</th>\n",
       "      <td>...</td>\n",
       "      <td>...</td>\n",
       "      <td>...</td>\n",
       "      <td>...</td>\n",
       "      <td>...</td>\n",
       "    </tr>\n",
       "    <tr>\n",
       "      <th>97601</th>\n",
       "      <td>__export__.temp_log_91076_7fbd08ca</td>\n",
       "      <td>Room Admin</td>\n",
       "      <td>28-07-2018 07:07</td>\n",
       "      <td>31</td>\n",
       "      <td>In</td>\n",
       "    </tr>\n",
       "    <tr>\n",
       "      <th>97602</th>\n",
       "      <td>__export__.temp_log_147733_62c03f31</td>\n",
       "      <td>Room Admin</td>\n",
       "      <td>28-07-2018 07:07</td>\n",
       "      <td>31</td>\n",
       "      <td>In</td>\n",
       "    </tr>\n",
       "    <tr>\n",
       "      <th>97603</th>\n",
       "      <td>__export__.temp_log_100386_84093a68</td>\n",
       "      <td>Room Admin</td>\n",
       "      <td>28-07-2018 07:06</td>\n",
       "      <td>31</td>\n",
       "      <td>In</td>\n",
       "    </tr>\n",
       "    <tr>\n",
       "      <th>97604</th>\n",
       "      <td>__export__.temp_log_123297_4d8e690b</td>\n",
       "      <td>Room Admin</td>\n",
       "      <td>28-07-2018 07:06</td>\n",
       "      <td>31</td>\n",
       "      <td>In</td>\n",
       "    </tr>\n",
       "    <tr>\n",
       "      <th>97605</th>\n",
       "      <td>__export__.temp_log_133741_32958703</td>\n",
       "      <td>Room Admin</td>\n",
       "      <td>28-07-2018 07:06</td>\n",
       "      <td>31</td>\n",
       "      <td>In</td>\n",
       "    </tr>\n",
       "  </tbody>\n",
       "</table>\n",
       "<p>97606 rows × 5 columns</p>\n",
       "</div>"
      ],
      "text/plain": [
       "                                        id  room_id/id        noted_date  \\\n",
       "0      __export__.temp_log_196134_bd201015  Room Admin  08-12-2018 09:30   \n",
       "1      __export__.temp_log_196131_7bca51bc  Room Admin  08-12-2018 09:30   \n",
       "2      __export__.temp_log_196127_522915e3  Room Admin  08-12-2018 09:29   \n",
       "3      __export__.temp_log_196128_be0919cf  Room Admin  08-12-2018 09:29   \n",
       "4      __export__.temp_log_196126_d30b72fb  Room Admin  08-12-2018 09:29   \n",
       "...                                    ...         ...               ...   \n",
       "97601   __export__.temp_log_91076_7fbd08ca  Room Admin  28-07-2018 07:07   \n",
       "97602  __export__.temp_log_147733_62c03f31  Room Admin  28-07-2018 07:07   \n",
       "97603  __export__.temp_log_100386_84093a68  Room Admin  28-07-2018 07:06   \n",
       "97604  __export__.temp_log_123297_4d8e690b  Room Admin  28-07-2018 07:06   \n",
       "97605  __export__.temp_log_133741_32958703  Room Admin  28-07-2018 07:06   \n",
       "\n",
       "       temp out/in  \n",
       "0        29     In  \n",
       "1        29     In  \n",
       "2        41    Out  \n",
       "3        41    Out  \n",
       "4        31     In  \n",
       "...     ...    ...  \n",
       "97601    31     In  \n",
       "97602    31     In  \n",
       "97603    31     In  \n",
       "97604    31     In  \n",
       "97605    31     In  \n",
       "\n",
       "[97606 rows x 5 columns]"
      ]
     },
     "execution_count": 92,
     "metadata": {},
     "output_type": "execute_result"
    }
   ],
   "source": [
    "IOT= pd.read_csv('IOT-temp.csv')\n",
    "IOT"
   ]
  },
  {
   "cell_type": "markdown",
   "id": "3c9a01be",
   "metadata": {},
   "source": [
    "Here, We deal with dataset of 5 attributes and 97606 records"
   ]
  },
  {
   "cell_type": "code",
   "execution_count": 93,
   "id": "cf464071",
   "metadata": {},
   "outputs": [
    {
     "name": "stdout",
     "output_type": "stream",
     "text": [
      "<class 'pandas.core.frame.DataFrame'>\n",
      "RangeIndex: 97606 entries, 0 to 97605\n",
      "Data columns (total 5 columns):\n",
      " #   Column      Non-Null Count  Dtype \n",
      "---  ------      --------------  ----- \n",
      " 0   id          97606 non-null  object\n",
      " 1   room_id/id  97606 non-null  object\n",
      " 2   noted_date  97606 non-null  object\n",
      " 3   temp        97606 non-null  int64 \n",
      " 4   out/in      97606 non-null  object\n",
      "dtypes: int64(1), object(4)\n",
      "memory usage: 3.7+ MB\n"
     ]
    }
   ],
   "source": [
    "IOT.info()"
   ]
  },
  {
   "cell_type": "markdown",
   "id": "7b584662",
   "metadata": {},
   "source": [
    "## Shape"
   ]
  },
  {
   "cell_type": "code",
   "execution_count": 94,
   "id": "7ed99868",
   "metadata": {},
   "outputs": [
    {
     "data": {
      "text/plain": [
       "(97606, 5)"
      ]
     },
     "execution_count": 94,
     "metadata": {},
     "output_type": "execute_result"
    }
   ],
   "source": [
    "IOT.shape"
   ]
  },
  {
   "cell_type": "markdown",
   "id": "ac0f2216",
   "metadata": {},
   "source": [
    "### Describe data"
   ]
  },
  {
   "cell_type": "code",
   "execution_count": 95,
   "id": "5753414e",
   "metadata": {},
   "outputs": [
    {
     "data": {
      "text/html": [
       "<div>\n",
       "<style scoped>\n",
       "    .dataframe tbody tr th:only-of-type {\n",
       "        vertical-align: middle;\n",
       "    }\n",
       "\n",
       "    .dataframe tbody tr th {\n",
       "        vertical-align: top;\n",
       "    }\n",
       "\n",
       "    .dataframe thead th {\n",
       "        text-align: right;\n",
       "    }\n",
       "</style>\n",
       "<table border=\"1\" class=\"dataframe\">\n",
       "  <thead>\n",
       "    <tr style=\"text-align: right;\">\n",
       "      <th></th>\n",
       "      <th>temp</th>\n",
       "    </tr>\n",
       "  </thead>\n",
       "  <tbody>\n",
       "    <tr>\n",
       "      <th>count</th>\n",
       "      <td>97606.000000</td>\n",
       "    </tr>\n",
       "    <tr>\n",
       "      <th>mean</th>\n",
       "      <td>35.053931</td>\n",
       "    </tr>\n",
       "    <tr>\n",
       "      <th>std</th>\n",
       "      <td>5.699825</td>\n",
       "    </tr>\n",
       "    <tr>\n",
       "      <th>min</th>\n",
       "      <td>21.000000</td>\n",
       "    </tr>\n",
       "    <tr>\n",
       "      <th>25%</th>\n",
       "      <td>30.000000</td>\n",
       "    </tr>\n",
       "    <tr>\n",
       "      <th>50%</th>\n",
       "      <td>35.000000</td>\n",
       "    </tr>\n",
       "    <tr>\n",
       "      <th>75%</th>\n",
       "      <td>40.000000</td>\n",
       "    </tr>\n",
       "    <tr>\n",
       "      <th>max</th>\n",
       "      <td>51.000000</td>\n",
       "    </tr>\n",
       "  </tbody>\n",
       "</table>\n",
       "</div>"
      ],
      "text/plain": [
       "               temp\n",
       "count  97606.000000\n",
       "mean      35.053931\n",
       "std        5.699825\n",
       "min       21.000000\n",
       "25%       30.000000\n",
       "50%       35.000000\n",
       "75%       40.000000\n",
       "max       51.000000"
      ]
     },
     "execution_count": 95,
     "metadata": {},
     "output_type": "execute_result"
    }
   ],
   "source": [
    "IOT.describe()"
   ]
  },
  {
   "cell_type": "markdown",
   "id": "35ec7593",
   "metadata": {},
   "source": [
    "### TYPE"
   ]
  },
  {
   "cell_type": "code",
   "execution_count": 96,
   "id": "26ce616f",
   "metadata": {},
   "outputs": [
    {
     "data": {
      "text/plain": [
       "id            object\n",
       "room_id/id    object\n",
       "noted_date    object\n",
       "temp           int64\n",
       "out/in        object\n",
       "dtype: object"
      ]
     },
     "execution_count": 96,
     "metadata": {},
     "output_type": "execute_result"
    }
   ],
   "source": [
    "IOT.dtypes"
   ]
  },
  {
   "cell_type": "markdown",
   "id": "86547305",
   "metadata": {},
   "source": [
    "## Check the attributes data types and Drop out unwanted columns like id , room_id."
   ]
  },
  {
   "cell_type": "code",
   "execution_count": 97,
   "id": "4da2f4a3",
   "metadata": {},
   "outputs": [
    {
     "data": {
      "text/html": [
       "<div>\n",
       "<style scoped>\n",
       "    .dataframe tbody tr th:only-of-type {\n",
       "        vertical-align: middle;\n",
       "    }\n",
       "\n",
       "    .dataframe tbody tr th {\n",
       "        vertical-align: top;\n",
       "    }\n",
       "\n",
       "    .dataframe thead th {\n",
       "        text-align: right;\n",
       "    }\n",
       "</style>\n",
       "<table border=\"1\" class=\"dataframe\">\n",
       "  <thead>\n",
       "    <tr style=\"text-align: right;\">\n",
       "      <th></th>\n",
       "      <th>noted_date</th>\n",
       "      <th>temp</th>\n",
       "      <th>out/in</th>\n",
       "    </tr>\n",
       "  </thead>\n",
       "  <tbody>\n",
       "    <tr>\n",
       "      <th>0</th>\n",
       "      <td>08-12-2018 09:30</td>\n",
       "      <td>29</td>\n",
       "      <td>In</td>\n",
       "    </tr>\n",
       "    <tr>\n",
       "      <th>1</th>\n",
       "      <td>08-12-2018 09:30</td>\n",
       "      <td>29</td>\n",
       "      <td>In</td>\n",
       "    </tr>\n",
       "    <tr>\n",
       "      <th>2</th>\n",
       "      <td>08-12-2018 09:29</td>\n",
       "      <td>41</td>\n",
       "      <td>Out</td>\n",
       "    </tr>\n",
       "    <tr>\n",
       "      <th>3</th>\n",
       "      <td>08-12-2018 09:29</td>\n",
       "      <td>41</td>\n",
       "      <td>Out</td>\n",
       "    </tr>\n",
       "    <tr>\n",
       "      <th>4</th>\n",
       "      <td>08-12-2018 09:29</td>\n",
       "      <td>31</td>\n",
       "      <td>In</td>\n",
       "    </tr>\n",
       "    <tr>\n",
       "      <th>...</th>\n",
       "      <td>...</td>\n",
       "      <td>...</td>\n",
       "      <td>...</td>\n",
       "    </tr>\n",
       "    <tr>\n",
       "      <th>97601</th>\n",
       "      <td>28-07-2018 07:07</td>\n",
       "      <td>31</td>\n",
       "      <td>In</td>\n",
       "    </tr>\n",
       "    <tr>\n",
       "      <th>97602</th>\n",
       "      <td>28-07-2018 07:07</td>\n",
       "      <td>31</td>\n",
       "      <td>In</td>\n",
       "    </tr>\n",
       "    <tr>\n",
       "      <th>97603</th>\n",
       "      <td>28-07-2018 07:06</td>\n",
       "      <td>31</td>\n",
       "      <td>In</td>\n",
       "    </tr>\n",
       "    <tr>\n",
       "      <th>97604</th>\n",
       "      <td>28-07-2018 07:06</td>\n",
       "      <td>31</td>\n",
       "      <td>In</td>\n",
       "    </tr>\n",
       "    <tr>\n",
       "      <th>97605</th>\n",
       "      <td>28-07-2018 07:06</td>\n",
       "      <td>31</td>\n",
       "      <td>In</td>\n",
       "    </tr>\n",
       "  </tbody>\n",
       "</table>\n",
       "<p>97606 rows × 3 columns</p>\n",
       "</div>"
      ],
      "text/plain": [
       "             noted_date  temp out/in\n",
       "0      08-12-2018 09:30    29     In\n",
       "1      08-12-2018 09:30    29     In\n",
       "2      08-12-2018 09:29    41    Out\n",
       "3      08-12-2018 09:29    41    Out\n",
       "4      08-12-2018 09:29    31     In\n",
       "...                 ...   ...    ...\n",
       "97601  28-07-2018 07:07    31     In\n",
       "97602  28-07-2018 07:07    31     In\n",
       "97603  28-07-2018 07:06    31     In\n",
       "97604  28-07-2018 07:06    31     In\n",
       "97605  28-07-2018 07:06    31     In\n",
       "\n",
       "[97606 rows x 3 columns]"
      ]
     },
     "execution_count": 97,
     "metadata": {},
     "output_type": "execute_result"
    }
   ],
   "source": [
    "IOT1 = IOT.drop(['id', 'room_id/id'],axis = 1)\n",
    "IOT1"
   ]
  },
  {
   "cell_type": "markdown",
   "id": "ecedef0c",
   "metadata": {},
   "source": [
    "### Number of missing values"
   ]
  },
  {
   "cell_type": "code",
   "execution_count": 98,
   "id": "9adefa7b",
   "metadata": {},
   "outputs": [
    {
     "name": "stdout",
     "output_type": "stream",
     "text": [
      "id - 0\n",
      "room_id/id - 0\n",
      "noted_date - 0\n",
      "temp - 0\n",
      "out/in - 0\n"
     ]
    }
   ],
   "source": [
    "column_names = IOT.columns\n",
    "for column in column_names:\n",
    "    print(column + \" - \" + str(IOT[column].isnull().sum()))"
   ]
  },
  {
   "cell_type": "code",
   "execution_count": 99,
   "id": "e63700f9",
   "metadata": {},
   "outputs": [
    {
     "data": {
      "text/plain": [
       "noted_date    0\n",
       "temp          0\n",
       "out/in        0\n",
       "dtype: int64"
      ]
     },
     "execution_count": 99,
     "metadata": {},
     "output_type": "execute_result"
    }
   ],
   "source": [
    "IOT1.isnull().sum()"
   ]
  },
  {
   "cell_type": "markdown",
   "id": "5ee84c36",
   "metadata": {},
   "source": [
    "We havn't any null values in dataset"
   ]
  },
  {
   "cell_type": "code",
   "execution_count": 100,
   "id": "392526bb",
   "metadata": {},
   "outputs": [
    {
     "data": {
      "text/plain": [
       "0       2018-08-12 09:30:00\n",
       "1       2018-08-12 09:30:00\n",
       "2       2018-08-12 09:29:00\n",
       "3       2018-08-12 09:29:00\n",
       "4       2018-08-12 09:29:00\n",
       "                ...        \n",
       "97601   2018-07-28 07:07:00\n",
       "97602   2018-07-28 07:07:00\n",
       "97603   2018-07-28 07:06:00\n",
       "97604   2018-07-28 07:06:00\n",
       "97605   2018-07-28 07:06:00\n",
       "Name: noted_date, Length: 97606, dtype: datetime64[ns]"
      ]
     },
     "execution_count": 100,
     "metadata": {},
     "output_type": "execute_result"
    }
   ],
   "source": [
    "IOT1['noted_date'] = pd.to_datetime(IOT1['noted_date'])\n",
    "IOT1['noted_date']"
   ]
  },
  {
   "cell_type": "code",
   "execution_count": 101,
   "id": "a8b7735e",
   "metadata": {},
   "outputs": [
    {
     "data": {
      "text/html": [
       "<div>\n",
       "<style scoped>\n",
       "    .dataframe tbody tr th:only-of-type {\n",
       "        vertical-align: middle;\n",
       "    }\n",
       "\n",
       "    .dataframe tbody tr th {\n",
       "        vertical-align: top;\n",
       "    }\n",
       "\n",
       "    .dataframe thead th {\n",
       "        text-align: right;\n",
       "    }\n",
       "</style>\n",
       "<table border=\"1\" class=\"dataframe\">\n",
       "  <thead>\n",
       "    <tr style=\"text-align: right;\">\n",
       "      <th></th>\n",
       "      <th>noted_date</th>\n",
       "      <th>temp</th>\n",
       "      <th>out/in</th>\n",
       "      <th>date</th>\n",
       "      <th>time</th>\n",
       "    </tr>\n",
       "  </thead>\n",
       "  <tbody>\n",
       "    <tr>\n",
       "      <th>0</th>\n",
       "      <td>2018-08-12 09:30:00</td>\n",
       "      <td>29</td>\n",
       "      <td>In</td>\n",
       "      <td>2018-08-12</td>\n",
       "      <td>09:30:00</td>\n",
       "    </tr>\n",
       "    <tr>\n",
       "      <th>1</th>\n",
       "      <td>2018-08-12 09:30:00</td>\n",
       "      <td>29</td>\n",
       "      <td>In</td>\n",
       "      <td>2018-08-12</td>\n",
       "      <td>09:30:00</td>\n",
       "    </tr>\n",
       "    <tr>\n",
       "      <th>2</th>\n",
       "      <td>2018-08-12 09:29:00</td>\n",
       "      <td>41</td>\n",
       "      <td>Out</td>\n",
       "      <td>2018-08-12</td>\n",
       "      <td>09:29:00</td>\n",
       "    </tr>\n",
       "    <tr>\n",
       "      <th>3</th>\n",
       "      <td>2018-08-12 09:29:00</td>\n",
       "      <td>41</td>\n",
       "      <td>Out</td>\n",
       "      <td>2018-08-12</td>\n",
       "      <td>09:29:00</td>\n",
       "    </tr>\n",
       "    <tr>\n",
       "      <th>4</th>\n",
       "      <td>2018-08-12 09:29:00</td>\n",
       "      <td>31</td>\n",
       "      <td>In</td>\n",
       "      <td>2018-08-12</td>\n",
       "      <td>09:29:00</td>\n",
       "    </tr>\n",
       "    <tr>\n",
       "      <th>...</th>\n",
       "      <td>...</td>\n",
       "      <td>...</td>\n",
       "      <td>...</td>\n",
       "      <td>...</td>\n",
       "      <td>...</td>\n",
       "    </tr>\n",
       "    <tr>\n",
       "      <th>97601</th>\n",
       "      <td>2018-07-28 07:07:00</td>\n",
       "      <td>31</td>\n",
       "      <td>In</td>\n",
       "      <td>2018-07-28</td>\n",
       "      <td>07:07:00</td>\n",
       "    </tr>\n",
       "    <tr>\n",
       "      <th>97602</th>\n",
       "      <td>2018-07-28 07:07:00</td>\n",
       "      <td>31</td>\n",
       "      <td>In</td>\n",
       "      <td>2018-07-28</td>\n",
       "      <td>07:07:00</td>\n",
       "    </tr>\n",
       "    <tr>\n",
       "      <th>97603</th>\n",
       "      <td>2018-07-28 07:06:00</td>\n",
       "      <td>31</td>\n",
       "      <td>In</td>\n",
       "      <td>2018-07-28</td>\n",
       "      <td>07:06:00</td>\n",
       "    </tr>\n",
       "    <tr>\n",
       "      <th>97604</th>\n",
       "      <td>2018-07-28 07:06:00</td>\n",
       "      <td>31</td>\n",
       "      <td>In</td>\n",
       "      <td>2018-07-28</td>\n",
       "      <td>07:06:00</td>\n",
       "    </tr>\n",
       "    <tr>\n",
       "      <th>97605</th>\n",
       "      <td>2018-07-28 07:06:00</td>\n",
       "      <td>31</td>\n",
       "      <td>In</td>\n",
       "      <td>2018-07-28</td>\n",
       "      <td>07:06:00</td>\n",
       "    </tr>\n",
       "  </tbody>\n",
       "</table>\n",
       "<p>97606 rows × 5 columns</p>\n",
       "</div>"
      ],
      "text/plain": [
       "               noted_date  temp out/in        date      time\n",
       "0     2018-08-12 09:30:00    29     In  2018-08-12  09:30:00\n",
       "1     2018-08-12 09:30:00    29     In  2018-08-12  09:30:00\n",
       "2     2018-08-12 09:29:00    41    Out  2018-08-12  09:29:00\n",
       "3     2018-08-12 09:29:00    41    Out  2018-08-12  09:29:00\n",
       "4     2018-08-12 09:29:00    31     In  2018-08-12  09:29:00\n",
       "...                   ...   ...    ...         ...       ...\n",
       "97601 2018-07-28 07:07:00    31     In  2018-07-28  07:07:00\n",
       "97602 2018-07-28 07:07:00    31     In  2018-07-28  07:07:00\n",
       "97603 2018-07-28 07:06:00    31     In  2018-07-28  07:06:00\n",
       "97604 2018-07-28 07:06:00    31     In  2018-07-28  07:06:00\n",
       "97605 2018-07-28 07:06:00    31     In  2018-07-28  07:06:00\n",
       "\n",
       "[97606 rows x 5 columns]"
      ]
     },
     "execution_count": 101,
     "metadata": {},
     "output_type": "execute_result"
    }
   ],
   "source": [
    "\n",
    "IOT1['date'] = IOT1['noted_date'].dt.date\n",
    "IOT1['time'] = IOT1['noted_date'].dt.time\n",
    "\n",
    "IOT1\n",
    "#IOT1['date']"
   ]
  },
  {
   "cell_type": "markdown",
   "id": "6a882b20",
   "metadata": {},
   "source": [
    "### Separate out date and time values of noted_date column"
   ]
  },
  {
   "cell_type": "markdown",
   "id": "53cfb5bb",
   "metadata": {},
   "source": [
    "### Further separate date,month,year from date and store as separate columns. Display the complete data with new columns."
   ]
  },
  {
   "cell_type": "code",
   "execution_count": 102,
   "id": "cb716127",
   "metadata": {},
   "outputs": [
    {
     "data": {
      "text/html": [
       "<div>\n",
       "<style scoped>\n",
       "    .dataframe tbody tr th:only-of-type {\n",
       "        vertical-align: middle;\n",
       "    }\n",
       "\n",
       "    .dataframe tbody tr th {\n",
       "        vertical-align: top;\n",
       "    }\n",
       "\n",
       "    .dataframe thead th {\n",
       "        text-align: right;\n",
       "    }\n",
       "</style>\n",
       "<table border=\"1\" class=\"dataframe\">\n",
       "  <thead>\n",
       "    <tr style=\"text-align: right;\">\n",
       "      <th></th>\n",
       "      <th>noted_date</th>\n",
       "      <th>temp</th>\n",
       "      <th>out/in</th>\n",
       "      <th>date</th>\n",
       "      <th>time</th>\n",
       "      <th>year</th>\n",
       "      <th>month</th>\n",
       "      <th>day</th>\n",
       "    </tr>\n",
       "  </thead>\n",
       "  <tbody>\n",
       "    <tr>\n",
       "      <th>0</th>\n",
       "      <td>2018-08-12 09:30:00</td>\n",
       "      <td>29</td>\n",
       "      <td>In</td>\n",
       "      <td>2018-08-12</td>\n",
       "      <td>09:30:00</td>\n",
       "      <td>2018</td>\n",
       "      <td>8</td>\n",
       "      <td>12</td>\n",
       "    </tr>\n",
       "    <tr>\n",
       "      <th>1</th>\n",
       "      <td>2018-08-12 09:30:00</td>\n",
       "      <td>29</td>\n",
       "      <td>In</td>\n",
       "      <td>2018-08-12</td>\n",
       "      <td>09:30:00</td>\n",
       "      <td>2018</td>\n",
       "      <td>8</td>\n",
       "      <td>12</td>\n",
       "    </tr>\n",
       "    <tr>\n",
       "      <th>2</th>\n",
       "      <td>2018-08-12 09:29:00</td>\n",
       "      <td>41</td>\n",
       "      <td>Out</td>\n",
       "      <td>2018-08-12</td>\n",
       "      <td>09:29:00</td>\n",
       "      <td>2018</td>\n",
       "      <td>8</td>\n",
       "      <td>12</td>\n",
       "    </tr>\n",
       "    <tr>\n",
       "      <th>3</th>\n",
       "      <td>2018-08-12 09:29:00</td>\n",
       "      <td>41</td>\n",
       "      <td>Out</td>\n",
       "      <td>2018-08-12</td>\n",
       "      <td>09:29:00</td>\n",
       "      <td>2018</td>\n",
       "      <td>8</td>\n",
       "      <td>12</td>\n",
       "    </tr>\n",
       "    <tr>\n",
       "      <th>4</th>\n",
       "      <td>2018-08-12 09:29:00</td>\n",
       "      <td>31</td>\n",
       "      <td>In</td>\n",
       "      <td>2018-08-12</td>\n",
       "      <td>09:29:00</td>\n",
       "      <td>2018</td>\n",
       "      <td>8</td>\n",
       "      <td>12</td>\n",
       "    </tr>\n",
       "    <tr>\n",
       "      <th>...</th>\n",
       "      <td>...</td>\n",
       "      <td>...</td>\n",
       "      <td>...</td>\n",
       "      <td>...</td>\n",
       "      <td>...</td>\n",
       "      <td>...</td>\n",
       "      <td>...</td>\n",
       "      <td>...</td>\n",
       "    </tr>\n",
       "    <tr>\n",
       "      <th>97601</th>\n",
       "      <td>2018-07-28 07:07:00</td>\n",
       "      <td>31</td>\n",
       "      <td>In</td>\n",
       "      <td>2018-07-28</td>\n",
       "      <td>07:07:00</td>\n",
       "      <td>2018</td>\n",
       "      <td>7</td>\n",
       "      <td>28</td>\n",
       "    </tr>\n",
       "    <tr>\n",
       "      <th>97602</th>\n",
       "      <td>2018-07-28 07:07:00</td>\n",
       "      <td>31</td>\n",
       "      <td>In</td>\n",
       "      <td>2018-07-28</td>\n",
       "      <td>07:07:00</td>\n",
       "      <td>2018</td>\n",
       "      <td>7</td>\n",
       "      <td>28</td>\n",
       "    </tr>\n",
       "    <tr>\n",
       "      <th>97603</th>\n",
       "      <td>2018-07-28 07:06:00</td>\n",
       "      <td>31</td>\n",
       "      <td>In</td>\n",
       "      <td>2018-07-28</td>\n",
       "      <td>07:06:00</td>\n",
       "      <td>2018</td>\n",
       "      <td>7</td>\n",
       "      <td>28</td>\n",
       "    </tr>\n",
       "    <tr>\n",
       "      <th>97604</th>\n",
       "      <td>2018-07-28 07:06:00</td>\n",
       "      <td>31</td>\n",
       "      <td>In</td>\n",
       "      <td>2018-07-28</td>\n",
       "      <td>07:06:00</td>\n",
       "      <td>2018</td>\n",
       "      <td>7</td>\n",
       "      <td>28</td>\n",
       "    </tr>\n",
       "    <tr>\n",
       "      <th>97605</th>\n",
       "      <td>2018-07-28 07:06:00</td>\n",
       "      <td>31</td>\n",
       "      <td>In</td>\n",
       "      <td>2018-07-28</td>\n",
       "      <td>07:06:00</td>\n",
       "      <td>2018</td>\n",
       "      <td>7</td>\n",
       "      <td>28</td>\n",
       "    </tr>\n",
       "  </tbody>\n",
       "</table>\n",
       "<p>97606 rows × 8 columns</p>\n",
       "</div>"
      ],
      "text/plain": [
       "               noted_date  temp out/in       date      time  year  month  day\n",
       "0     2018-08-12 09:30:00    29     In 2018-08-12  09:30:00  2018      8   12\n",
       "1     2018-08-12 09:30:00    29     In 2018-08-12  09:30:00  2018      8   12\n",
       "2     2018-08-12 09:29:00    41    Out 2018-08-12  09:29:00  2018      8   12\n",
       "3     2018-08-12 09:29:00    41    Out 2018-08-12  09:29:00  2018      8   12\n",
       "4     2018-08-12 09:29:00    31     In 2018-08-12  09:29:00  2018      8   12\n",
       "...                   ...   ...    ...        ...       ...   ...    ...  ...\n",
       "97601 2018-07-28 07:07:00    31     In 2018-07-28  07:07:00  2018      7   28\n",
       "97602 2018-07-28 07:07:00    31     In 2018-07-28  07:07:00  2018      7   28\n",
       "97603 2018-07-28 07:06:00    31     In 2018-07-28  07:06:00  2018      7   28\n",
       "97604 2018-07-28 07:06:00    31     In 2018-07-28  07:06:00  2018      7   28\n",
       "97605 2018-07-28 07:06:00    31     In 2018-07-28  07:06:00  2018      7   28\n",
       "\n",
       "[97606 rows x 8 columns]"
      ]
     },
     "execution_count": 102,
     "metadata": {},
     "output_type": "execute_result"
    }
   ],
   "source": [
    "IOT1['date'] = pd.to_datetime(IOT1['date'])\n",
    "\n",
    "IOT1['year'] = IOT1['date'].dt.year\n",
    "IOT1['month'] = IOT1['date'].dt.month\n",
    "IOT1['day'] = IOT1['date'].dt.day\n",
    "IOT1"
   ]
  },
  {
   "cell_type": "code",
   "execution_count": 103,
   "id": "e5bd3d7a",
   "metadata": {
    "scrolled": true
   },
   "outputs": [
    {
     "data": {
      "text/html": [
       "<div>\n",
       "<style scoped>\n",
       "    .dataframe tbody tr th:only-of-type {\n",
       "        vertical-align: middle;\n",
       "    }\n",
       "\n",
       "    .dataframe tbody tr th {\n",
       "        vertical-align: top;\n",
       "    }\n",
       "\n",
       "    .dataframe thead th {\n",
       "        text-align: right;\n",
       "    }\n",
       "</style>\n",
       "<table border=\"1\" class=\"dataframe\">\n",
       "  <thead>\n",
       "    <tr style=\"text-align: right;\">\n",
       "      <th></th>\n",
       "      <th>temp</th>\n",
       "      <th>out/in</th>\n",
       "      <th>time</th>\n",
       "      <th>year</th>\n",
       "      <th>month</th>\n",
       "      <th>day</th>\n",
       "    </tr>\n",
       "  </thead>\n",
       "  <tbody>\n",
       "    <tr>\n",
       "      <th>0</th>\n",
       "      <td>29</td>\n",
       "      <td>In</td>\n",
       "      <td>09:30:00</td>\n",
       "      <td>2018</td>\n",
       "      <td>8</td>\n",
       "      <td>12</td>\n",
       "    </tr>\n",
       "    <tr>\n",
       "      <th>1</th>\n",
       "      <td>29</td>\n",
       "      <td>In</td>\n",
       "      <td>09:30:00</td>\n",
       "      <td>2018</td>\n",
       "      <td>8</td>\n",
       "      <td>12</td>\n",
       "    </tr>\n",
       "    <tr>\n",
       "      <th>2</th>\n",
       "      <td>41</td>\n",
       "      <td>Out</td>\n",
       "      <td>09:29:00</td>\n",
       "      <td>2018</td>\n",
       "      <td>8</td>\n",
       "      <td>12</td>\n",
       "    </tr>\n",
       "    <tr>\n",
       "      <th>3</th>\n",
       "      <td>41</td>\n",
       "      <td>Out</td>\n",
       "      <td>09:29:00</td>\n",
       "      <td>2018</td>\n",
       "      <td>8</td>\n",
       "      <td>12</td>\n",
       "    </tr>\n",
       "    <tr>\n",
       "      <th>4</th>\n",
       "      <td>31</td>\n",
       "      <td>In</td>\n",
       "      <td>09:29:00</td>\n",
       "      <td>2018</td>\n",
       "      <td>8</td>\n",
       "      <td>12</td>\n",
       "    </tr>\n",
       "    <tr>\n",
       "      <th>...</th>\n",
       "      <td>...</td>\n",
       "      <td>...</td>\n",
       "      <td>...</td>\n",
       "      <td>...</td>\n",
       "      <td>...</td>\n",
       "      <td>...</td>\n",
       "    </tr>\n",
       "    <tr>\n",
       "      <th>97601</th>\n",
       "      <td>31</td>\n",
       "      <td>In</td>\n",
       "      <td>07:07:00</td>\n",
       "      <td>2018</td>\n",
       "      <td>7</td>\n",
       "      <td>28</td>\n",
       "    </tr>\n",
       "    <tr>\n",
       "      <th>97602</th>\n",
       "      <td>31</td>\n",
       "      <td>In</td>\n",
       "      <td>07:07:00</td>\n",
       "      <td>2018</td>\n",
       "      <td>7</td>\n",
       "      <td>28</td>\n",
       "    </tr>\n",
       "    <tr>\n",
       "      <th>97603</th>\n",
       "      <td>31</td>\n",
       "      <td>In</td>\n",
       "      <td>07:06:00</td>\n",
       "      <td>2018</td>\n",
       "      <td>7</td>\n",
       "      <td>28</td>\n",
       "    </tr>\n",
       "    <tr>\n",
       "      <th>97604</th>\n",
       "      <td>31</td>\n",
       "      <td>In</td>\n",
       "      <td>07:06:00</td>\n",
       "      <td>2018</td>\n",
       "      <td>7</td>\n",
       "      <td>28</td>\n",
       "    </tr>\n",
       "    <tr>\n",
       "      <th>97605</th>\n",
       "      <td>31</td>\n",
       "      <td>In</td>\n",
       "      <td>07:06:00</td>\n",
       "      <td>2018</td>\n",
       "      <td>7</td>\n",
       "      <td>28</td>\n",
       "    </tr>\n",
       "  </tbody>\n",
       "</table>\n",
       "<p>97606 rows × 6 columns</p>\n",
       "</div>"
      ],
      "text/plain": [
       "       temp out/in      time  year  month  day\n",
       "0        29     In  09:30:00  2018      8   12\n",
       "1        29     In  09:30:00  2018      8   12\n",
       "2        41    Out  09:29:00  2018      8   12\n",
       "3        41    Out  09:29:00  2018      8   12\n",
       "4        31     In  09:29:00  2018      8   12\n",
       "...     ...    ...       ...   ...    ...  ...\n",
       "97601    31     In  07:07:00  2018      7   28\n",
       "97602    31     In  07:07:00  2018      7   28\n",
       "97603    31     In  07:06:00  2018      7   28\n",
       "97604    31     In  07:06:00  2018      7   28\n",
       "97605    31     In  07:06:00  2018      7   28\n",
       "\n",
       "[97606 rows x 6 columns]"
      ]
     },
     "execution_count": 103,
     "metadata": {},
     "output_type": "execute_result"
    }
   ],
   "source": [
    "IOT2 = IOT1.drop(['date','noted_date'], axis = 1)\n",
    "IOT2"
   ]
  },
  {
   "cell_type": "markdown",
   "id": "7cfd8963",
   "metadata": {},
   "source": [
    "### before plotting we sepreate out data in two different dataframes "
   ]
  },
  {
   "cell_type": "markdown",
   "id": "48af2073",
   "metadata": {},
   "source": [
    "### Converting 'In' to '1' and 'Out' to '0'"
   ]
  },
  {
   "cell_type": "code",
   "execution_count": 104,
   "id": "86b4e0c6",
   "metadata": {},
   "outputs": [],
   "source": [
    "IOT2.replace({'In' : 0,'Out':1}, inplace = True)"
   ]
  },
  {
   "cell_type": "code",
   "execution_count": 105,
   "id": "9f5b1165",
   "metadata": {},
   "outputs": [
    {
     "data": {
      "text/html": [
       "<div>\n",
       "<style scoped>\n",
       "    .dataframe tbody tr th:only-of-type {\n",
       "        vertical-align: middle;\n",
       "    }\n",
       "\n",
       "    .dataframe tbody tr th {\n",
       "        vertical-align: top;\n",
       "    }\n",
       "\n",
       "    .dataframe thead th {\n",
       "        text-align: right;\n",
       "    }\n",
       "</style>\n",
       "<table border=\"1\" class=\"dataframe\">\n",
       "  <thead>\n",
       "    <tr style=\"text-align: right;\">\n",
       "      <th></th>\n",
       "      <th>temp</th>\n",
       "      <th>out/in</th>\n",
       "      <th>time</th>\n",
       "      <th>year</th>\n",
       "      <th>month</th>\n",
       "      <th>day</th>\n",
       "    </tr>\n",
       "  </thead>\n",
       "  <tbody>\n",
       "    <tr>\n",
       "      <th>0</th>\n",
       "      <td>29</td>\n",
       "      <td>0</td>\n",
       "      <td>09:30:00</td>\n",
       "      <td>2018</td>\n",
       "      <td>8</td>\n",
       "      <td>12</td>\n",
       "    </tr>\n",
       "    <tr>\n",
       "      <th>1</th>\n",
       "      <td>29</td>\n",
       "      <td>0</td>\n",
       "      <td>09:30:00</td>\n",
       "      <td>2018</td>\n",
       "      <td>8</td>\n",
       "      <td>12</td>\n",
       "    </tr>\n",
       "    <tr>\n",
       "      <th>2</th>\n",
       "      <td>41</td>\n",
       "      <td>1</td>\n",
       "      <td>09:29:00</td>\n",
       "      <td>2018</td>\n",
       "      <td>8</td>\n",
       "      <td>12</td>\n",
       "    </tr>\n",
       "    <tr>\n",
       "      <th>3</th>\n",
       "      <td>41</td>\n",
       "      <td>1</td>\n",
       "      <td>09:29:00</td>\n",
       "      <td>2018</td>\n",
       "      <td>8</td>\n",
       "      <td>12</td>\n",
       "    </tr>\n",
       "    <tr>\n",
       "      <th>4</th>\n",
       "      <td>31</td>\n",
       "      <td>0</td>\n",
       "      <td>09:29:00</td>\n",
       "      <td>2018</td>\n",
       "      <td>8</td>\n",
       "      <td>12</td>\n",
       "    </tr>\n",
       "    <tr>\n",
       "      <th>...</th>\n",
       "      <td>...</td>\n",
       "      <td>...</td>\n",
       "      <td>...</td>\n",
       "      <td>...</td>\n",
       "      <td>...</td>\n",
       "      <td>...</td>\n",
       "    </tr>\n",
       "    <tr>\n",
       "      <th>97601</th>\n",
       "      <td>31</td>\n",
       "      <td>0</td>\n",
       "      <td>07:07:00</td>\n",
       "      <td>2018</td>\n",
       "      <td>7</td>\n",
       "      <td>28</td>\n",
       "    </tr>\n",
       "    <tr>\n",
       "      <th>97602</th>\n",
       "      <td>31</td>\n",
       "      <td>0</td>\n",
       "      <td>07:07:00</td>\n",
       "      <td>2018</td>\n",
       "      <td>7</td>\n",
       "      <td>28</td>\n",
       "    </tr>\n",
       "    <tr>\n",
       "      <th>97603</th>\n",
       "      <td>31</td>\n",
       "      <td>0</td>\n",
       "      <td>07:06:00</td>\n",
       "      <td>2018</td>\n",
       "      <td>7</td>\n",
       "      <td>28</td>\n",
       "    </tr>\n",
       "    <tr>\n",
       "      <th>97604</th>\n",
       "      <td>31</td>\n",
       "      <td>0</td>\n",
       "      <td>07:06:00</td>\n",
       "      <td>2018</td>\n",
       "      <td>7</td>\n",
       "      <td>28</td>\n",
       "    </tr>\n",
       "    <tr>\n",
       "      <th>97605</th>\n",
       "      <td>31</td>\n",
       "      <td>0</td>\n",
       "      <td>07:06:00</td>\n",
       "      <td>2018</td>\n",
       "      <td>7</td>\n",
       "      <td>28</td>\n",
       "    </tr>\n",
       "  </tbody>\n",
       "</table>\n",
       "<p>97606 rows × 6 columns</p>\n",
       "</div>"
      ],
      "text/plain": [
       "       temp  out/in      time  year  month  day\n",
       "0        29       0  09:30:00  2018      8   12\n",
       "1        29       0  09:30:00  2018      8   12\n",
       "2        41       1  09:29:00  2018      8   12\n",
       "3        41       1  09:29:00  2018      8   12\n",
       "4        31       0  09:29:00  2018      8   12\n",
       "...     ...     ...       ...   ...    ...  ...\n",
       "97601    31       0  07:07:00  2018      7   28\n",
       "97602    31       0  07:07:00  2018      7   28\n",
       "97603    31       0  07:06:00  2018      7   28\n",
       "97604    31       0  07:06:00  2018      7   28\n",
       "97605    31       0  07:06:00  2018      7   28\n",
       "\n",
       "[97606 rows x 6 columns]"
      ]
     },
     "execution_count": 105,
     "metadata": {},
     "output_type": "execute_result"
    }
   ],
   "source": [
    "# IOT2.replace('In', 0, inplace = True)\n",
    "# IOT2.replace('Out', 1, inplace = True)\n",
    "\n",
    "IOT2"
   ]
  },
  {
   "cell_type": "code",
   "execution_count": 106,
   "id": "9edf2943",
   "metadata": {},
   "outputs": [],
   "source": [
    "IOT2_in = IOT2[IOT2[\"out/in\"] == 0]\n",
    "IOT2_out = IOT2[IOT2[\"out/in\"] == 1]"
   ]
  },
  {
   "cell_type": "code",
   "execution_count": 107,
   "id": "809efc25",
   "metadata": {},
   "outputs": [
    {
     "data": {
      "text/html": [
       "<div>\n",
       "<style scoped>\n",
       "    .dataframe tbody tr th:only-of-type {\n",
       "        vertical-align: middle;\n",
       "    }\n",
       "\n",
       "    .dataframe tbody tr th {\n",
       "        vertical-align: top;\n",
       "    }\n",
       "\n",
       "    .dataframe thead th {\n",
       "        text-align: right;\n",
       "    }\n",
       "</style>\n",
       "<table border=\"1\" class=\"dataframe\">\n",
       "  <thead>\n",
       "    <tr style=\"text-align: right;\">\n",
       "      <th></th>\n",
       "      <th>temp</th>\n",
       "      <th>out/in</th>\n",
       "      <th>time</th>\n",
       "      <th>year</th>\n",
       "      <th>month</th>\n",
       "      <th>day</th>\n",
       "    </tr>\n",
       "  </thead>\n",
       "  <tbody>\n",
       "    <tr>\n",
       "      <th>0</th>\n",
       "      <td>29</td>\n",
       "      <td>0</td>\n",
       "      <td>09:30:00</td>\n",
       "      <td>2018</td>\n",
       "      <td>8</td>\n",
       "      <td>12</td>\n",
       "    </tr>\n",
       "    <tr>\n",
       "      <th>1</th>\n",
       "      <td>29</td>\n",
       "      <td>0</td>\n",
       "      <td>09:30:00</td>\n",
       "      <td>2018</td>\n",
       "      <td>8</td>\n",
       "      <td>12</td>\n",
       "    </tr>\n",
       "    <tr>\n",
       "      <th>4</th>\n",
       "      <td>31</td>\n",
       "      <td>0</td>\n",
       "      <td>09:29:00</td>\n",
       "      <td>2018</td>\n",
       "      <td>8</td>\n",
       "      <td>12</td>\n",
       "    </tr>\n",
       "    <tr>\n",
       "      <th>5</th>\n",
       "      <td>31</td>\n",
       "      <td>0</td>\n",
       "      <td>09:29:00</td>\n",
       "      <td>2018</td>\n",
       "      <td>8</td>\n",
       "      <td>12</td>\n",
       "    </tr>\n",
       "    <tr>\n",
       "      <th>6</th>\n",
       "      <td>29</td>\n",
       "      <td>0</td>\n",
       "      <td>09:28:00</td>\n",
       "      <td>2018</td>\n",
       "      <td>8</td>\n",
       "      <td>12</td>\n",
       "    </tr>\n",
       "    <tr>\n",
       "      <th>...</th>\n",
       "      <td>...</td>\n",
       "      <td>...</td>\n",
       "      <td>...</td>\n",
       "      <td>...</td>\n",
       "      <td>...</td>\n",
       "      <td>...</td>\n",
       "    </tr>\n",
       "    <tr>\n",
       "      <th>97601</th>\n",
       "      <td>31</td>\n",
       "      <td>0</td>\n",
       "      <td>07:07:00</td>\n",
       "      <td>2018</td>\n",
       "      <td>7</td>\n",
       "      <td>28</td>\n",
       "    </tr>\n",
       "    <tr>\n",
       "      <th>97602</th>\n",
       "      <td>31</td>\n",
       "      <td>0</td>\n",
       "      <td>07:07:00</td>\n",
       "      <td>2018</td>\n",
       "      <td>7</td>\n",
       "      <td>28</td>\n",
       "    </tr>\n",
       "    <tr>\n",
       "      <th>97603</th>\n",
       "      <td>31</td>\n",
       "      <td>0</td>\n",
       "      <td>07:06:00</td>\n",
       "      <td>2018</td>\n",
       "      <td>7</td>\n",
       "      <td>28</td>\n",
       "    </tr>\n",
       "    <tr>\n",
       "      <th>97604</th>\n",
       "      <td>31</td>\n",
       "      <td>0</td>\n",
       "      <td>07:06:00</td>\n",
       "      <td>2018</td>\n",
       "      <td>7</td>\n",
       "      <td>28</td>\n",
       "    </tr>\n",
       "    <tr>\n",
       "      <th>97605</th>\n",
       "      <td>31</td>\n",
       "      <td>0</td>\n",
       "      <td>07:06:00</td>\n",
       "      <td>2018</td>\n",
       "      <td>7</td>\n",
       "      <td>28</td>\n",
       "    </tr>\n",
       "  </tbody>\n",
       "</table>\n",
       "<p>20345 rows × 6 columns</p>\n",
       "</div>"
      ],
      "text/plain": [
       "       temp  out/in      time  year  month  day\n",
       "0        29       0  09:30:00  2018      8   12\n",
       "1        29       0  09:30:00  2018      8   12\n",
       "4        31       0  09:29:00  2018      8   12\n",
       "5        31       0  09:29:00  2018      8   12\n",
       "6        29       0  09:28:00  2018      8   12\n",
       "...     ...     ...       ...   ...    ...  ...\n",
       "97601    31       0  07:07:00  2018      7   28\n",
       "97602    31       0  07:07:00  2018      7   28\n",
       "97603    31       0  07:06:00  2018      7   28\n",
       "97604    31       0  07:06:00  2018      7   28\n",
       "97605    31       0  07:06:00  2018      7   28\n",
       "\n",
       "[20345 rows x 6 columns]"
      ]
     },
     "execution_count": 107,
     "metadata": {},
     "output_type": "execute_result"
    }
   ],
   "source": [
    "IOT2_in"
   ]
  },
  {
   "cell_type": "markdown",
   "id": "bba384ec",
   "metadata": {},
   "source": [
    "#### 2 : based on Outside temperature"
   ]
  },
  {
   "cell_type": "code",
   "execution_count": 108,
   "id": "4c7047e3",
   "metadata": {},
   "outputs": [
    {
     "data": {
      "text/html": [
       "<div>\n",
       "<style scoped>\n",
       "    .dataframe tbody tr th:only-of-type {\n",
       "        vertical-align: middle;\n",
       "    }\n",
       "\n",
       "    .dataframe tbody tr th {\n",
       "        vertical-align: top;\n",
       "    }\n",
       "\n",
       "    .dataframe thead th {\n",
       "        text-align: right;\n",
       "    }\n",
       "</style>\n",
       "<table border=\"1\" class=\"dataframe\">\n",
       "  <thead>\n",
       "    <tr style=\"text-align: right;\">\n",
       "      <th></th>\n",
       "      <th>temp</th>\n",
       "      <th>out/in</th>\n",
       "      <th>time</th>\n",
       "      <th>year</th>\n",
       "      <th>month</th>\n",
       "      <th>day</th>\n",
       "    </tr>\n",
       "  </thead>\n",
       "  <tbody>\n",
       "    <tr>\n",
       "      <th>0</th>\n",
       "      <td>29</td>\n",
       "      <td>0</td>\n",
       "      <td>09:30:00</td>\n",
       "      <td>2018</td>\n",
       "      <td>8</td>\n",
       "      <td>12</td>\n",
       "    </tr>\n",
       "    <tr>\n",
       "      <th>1</th>\n",
       "      <td>29</td>\n",
       "      <td>0</td>\n",
       "      <td>09:30:00</td>\n",
       "      <td>2018</td>\n",
       "      <td>8</td>\n",
       "      <td>12</td>\n",
       "    </tr>\n",
       "    <tr>\n",
       "      <th>4</th>\n",
       "      <td>31</td>\n",
       "      <td>0</td>\n",
       "      <td>09:29:00</td>\n",
       "      <td>2018</td>\n",
       "      <td>8</td>\n",
       "      <td>12</td>\n",
       "    </tr>\n",
       "    <tr>\n",
       "      <th>5</th>\n",
       "      <td>31</td>\n",
       "      <td>0</td>\n",
       "      <td>09:29:00</td>\n",
       "      <td>2018</td>\n",
       "      <td>8</td>\n",
       "      <td>12</td>\n",
       "    </tr>\n",
       "    <tr>\n",
       "      <th>6</th>\n",
       "      <td>29</td>\n",
       "      <td>0</td>\n",
       "      <td>09:28:00</td>\n",
       "      <td>2018</td>\n",
       "      <td>8</td>\n",
       "      <td>12</td>\n",
       "    </tr>\n",
       "    <tr>\n",
       "      <th>...</th>\n",
       "      <td>...</td>\n",
       "      <td>...</td>\n",
       "      <td>...</td>\n",
       "      <td>...</td>\n",
       "      <td>...</td>\n",
       "      <td>...</td>\n",
       "    </tr>\n",
       "    <tr>\n",
       "      <th>97601</th>\n",
       "      <td>31</td>\n",
       "      <td>0</td>\n",
       "      <td>07:07:00</td>\n",
       "      <td>2018</td>\n",
       "      <td>7</td>\n",
       "      <td>28</td>\n",
       "    </tr>\n",
       "    <tr>\n",
       "      <th>97602</th>\n",
       "      <td>31</td>\n",
       "      <td>0</td>\n",
       "      <td>07:07:00</td>\n",
       "      <td>2018</td>\n",
       "      <td>7</td>\n",
       "      <td>28</td>\n",
       "    </tr>\n",
       "    <tr>\n",
       "      <th>97603</th>\n",
       "      <td>31</td>\n",
       "      <td>0</td>\n",
       "      <td>07:06:00</td>\n",
       "      <td>2018</td>\n",
       "      <td>7</td>\n",
       "      <td>28</td>\n",
       "    </tr>\n",
       "    <tr>\n",
       "      <th>97604</th>\n",
       "      <td>31</td>\n",
       "      <td>0</td>\n",
       "      <td>07:06:00</td>\n",
       "      <td>2018</td>\n",
       "      <td>7</td>\n",
       "      <td>28</td>\n",
       "    </tr>\n",
       "    <tr>\n",
       "      <th>97605</th>\n",
       "      <td>31</td>\n",
       "      <td>0</td>\n",
       "      <td>07:06:00</td>\n",
       "      <td>2018</td>\n",
       "      <td>7</td>\n",
       "      <td>28</td>\n",
       "    </tr>\n",
       "  </tbody>\n",
       "</table>\n",
       "<p>20345 rows × 6 columns</p>\n",
       "</div>"
      ],
      "text/plain": [
       "       temp  out/in      time  year  month  day\n",
       "0        29       0  09:30:00  2018      8   12\n",
       "1        29       0  09:30:00  2018      8   12\n",
       "4        31       0  09:29:00  2018      8   12\n",
       "5        31       0  09:29:00  2018      8   12\n",
       "6        29       0  09:28:00  2018      8   12\n",
       "...     ...     ...       ...   ...    ...  ...\n",
       "97601    31       0  07:07:00  2018      7   28\n",
       "97602    31       0  07:07:00  2018      7   28\n",
       "97603    31       0  07:06:00  2018      7   28\n",
       "97604    31       0  07:06:00  2018      7   28\n",
       "97605    31       0  07:06:00  2018      7   28\n",
       "\n",
       "[20345 rows x 6 columns]"
      ]
     },
     "execution_count": 108,
     "metadata": {},
     "output_type": "execute_result"
    }
   ],
   "source": [
    "IOT2_in.reset_index(drop = True)\n",
    "IOT2_in"
   ]
  },
  {
   "cell_type": "code",
   "execution_count": 112,
   "id": "4bfc6a87",
   "metadata": {},
   "outputs": [
    {
     "data": {
      "text/plain": [
       "1    77261\n",
       "0    20345\n",
       "Name: out/in, dtype: int64"
      ]
     },
     "execution_count": 112,
     "metadata": {},
     "output_type": "execute_result"
    }
   ],
   "source": [
    "x=IOT2['out/in'].value_counts()\n",
    "x"
   ]
  },
  {
   "cell_type": "code",
   "execution_count": 113,
   "id": "dc8ad908",
   "metadata": {},
   "outputs": [
    {
     "data": {
      "text/plain": [
       "<Axes: >"
      ]
     },
     "execution_count": 113,
     "metadata": {},
     "output_type": "execute_result"
    },
    {
     "data": {
      "image/png": "[encoded data removed]",
      "text/plain": [
       "<Figure size 640x480 with 1 Axes>"
      ]
     },
     "metadata": {},
     "output_type": "display_data"
    }
   ],
   "source": [
    "x.plot(kind='bar')"
   ]
  },
  {
   "cell_type": "code",
   "execution_count": 115,
   "id": "e19c5e58",
   "metadata": {},
   "outputs": [
    {
     "data": {
      "image/png": "[encoded data removed]",
      "text/plain": [
       "<Figure size 640x480 with 1 Axes>"
      ]
     },
     "metadata": {},
     "output_type": "display_data"
    }
   ],
   "source": [
    "sns.countplot(data =IOT2,x='out/in');"
   ]
  },
  {
   "cell_type": "markdown",
   "id": "5b65c88c",
   "metadata": {},
   "source": [
    "we have 20000 records of temp_in and 77606 records of temp_out."
   ]
  },
  {
   "cell_type": "markdown",
   "id": "32d49d36",
   "metadata": {},
   "source": [
    "## Prepare boxplot of temprature."
   ]
  },
  {
   "cell_type": "code",
   "execution_count": 117,
   "id": "4b8ca3fa",
   "metadata": {},
   "outputs": [
    {
     "data": {
      "image/png": "[encoded data removed]",
      "text/plain": [
       "<Figure size 640x480 with 1 Axes>"
      ]
     },
     "metadata": {},
     "output_type": "display_data"
    }
   ],
   "source": [
    "sns.boxplot(data = IOT2,x= 'temp')\n",
    "plt.show()"
   ]
  },
  {
   "cell_type": "code",
   "execution_count": 118,
   "id": "68d91f78",
   "metadata": {},
   "outputs": [
    {
     "data": {
      "image/png": "[encoded data removed]",
      "text/plain": [
       "<Figure size 640x480 with 1 Axes>"
      ]
     },
     "metadata": {},
     "output_type": "display_data"
    }
   ],
   "source": [
    "# Inside temperature \n",
    "sns.boxplot(data = IOT2_in,x = IOT2_in['temp'])\n",
    "plt.show()"
   ]
  },
  {
   "cell_type": "markdown",
   "id": "f1742bb6",
   "metadata": {},
   "source": [
    "Here we have Outlires in temperature column for temp_in."
   ]
  },
  {
   "cell_type": "code",
   "execution_count": 120,
   "id": "88cbd9f1",
   "metadata": {},
   "outputs": [
    {
     "data": {
      "image/png": "[encoded data removed]",
      "text/plain": [
       "<Figure size 640x480 with 1 Axes>"
      ]
     },
     "metadata": {},
     "output_type": "display_data"
    }
   ],
   "source": [
    "# Outside temperature \n",
    "sns.boxplot(data = IOT2_out,x= IOT2_out['temp'])\n",
    "plt.show()"
   ]
  },
  {
   "cell_type": "markdown",
   "id": "f9f3d041",
   "metadata": {},
   "source": [
    "# Prepare barplot for in/out vs temperature."
   ]
  },
  {
   "cell_type": "code",
   "execution_count": 121,
   "id": "61a13aba",
   "metadata": {},
   "outputs": [
    {
     "data": {
      "image/png": "[encoded data removed]",
      "text/plain": [
       "<Figure size 500x500 with 1 Axes>"
      ]
     },
     "metadata": {},
     "output_type": "display_data"
    }
   ],
   "source": [
    "fig = plt.figure(figsize=(5,5));\n",
    "ax = fig.add_axes([0,0,1,1])\n",
    "\n",
    "x = ['IN', 'OUT']\n",
    "y_in = IOT2_in['temp'].mean()\n",
    "y_out = IOT2_out['temp'].mean()\n",
    "\n",
    "ax.bar(x[0], y_in, color = 'red')\n",
    "ax.bar(x[1], y_out, color = 'blue')\n",
    "\n",
    "ax.set_xlabel('Indice')\n",
    "ax.set_ylabel('Temperature')\n",
    "ax.legend([\"Temp_IN\", \"Temp_OUT\"])\n",
    "ax.set_title('Bar Plot of In/Out vs Temperature')\n",
    "plt.show()"
   ]
  },
  {
   "cell_type": "code",
   "execution_count": 125,
   "id": "f21908a4",
   "metadata": {},
   "outputs": [
    {
     "data": {
      "image/png": "[encoded data removed]",
      "text/plain": [
       "<Figure size 640x480 with 1 Axes>"
      ]
     },
     "metadata": {},
     "output_type": "display_data"
    }
   ],
   "source": [
    "sns.barplot(x = IOT2['out/in'],y = IOT2['temp'])\n",
    "plt.show()"
   ]
  },
  {
   "cell_type": "code",
   "execution_count": null,
   "id": "0db9c286",
   "metadata": {},
   "outputs": [],
   "source": []
  },
  {
   "cell_type": "code",
   "execution_count": null,
   "id": "38b64cae",
   "metadata": {},
   "outputs": [],
   "source": []
  },
  {
   "cell_type": "code",
   "execution_count": null,
   "id": "e8759518",
   "metadata": {},
   "outputs": [],
   "source": []
  }
 ],
 "metadata": {
  "kernelspec": {
   "display_name": "Python 3 (ipykernel)",
   "language": "python",
   "name": "python3"
  },
  "language_info": {
   "codemirror_mode": {
    "name": "ipython",
    "version": 3
   },
   "file_extension": ".py",
   "mimetype": "text/x-python",
   "name": "python",
   "nbconvert_exporter": "python",
   "pygments_lexer": "ipython3",
   "version": "3.10.9"
  }
 },
 "nbformat": 4,
 "nbformat_minor": 5
}
